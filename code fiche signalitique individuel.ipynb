{
 "cells": [
  {
   "cell_type": "code",
   "execution_count": 3,
   "id": "4a0c265a",
   "metadata": {},
   "outputs": [],
   "source": [
    "from PyPDF2 import PdfReader, PdfWriter\n",
    "import pandas as pd\n",
    "import os"
   ]
  },
  {
   "cell_type": "code",
   "execution_count": 4,
   "id": "e1664991",
   "metadata": {},
   "outputs": [],
   "source": [
    "def extract_and_rename_pdf_pages(pdf_path, csv_path, column_name, output_folder):\n",
    "    # Création du dossier de sortie s'il n'existe pas\n",
    "    os.makedirs(output_folder, exist_ok=True)\n",
    "\n",
    "    # Lecture du PDF\n",
    "    reader = PdfReader(pdf_path)\n",
    "    \n",
    "    # Lecture du CSV et récupération des noms dans la colonne spécifiée\n",
    "    df = pd.read_csv(csv_path, sep=\";\")\n",
    "    names = df[column_name].tolist()\n",
    "    \n",
    "    # Vérification que le nombre de noms correspond au nombre de pages du PDF\n",
    "    if len(names) != len(reader.pages):\n",
    "        raise ValueError(\"Le nombre de noms dans le CSV ne correspond pas au nombre de pages dans le PDF\")\n",
    "    \n",
    "    # Extraction et sauvegarde de chaque page sous le nom correspondant dans le dossier spécifié\n",
    "    for i, name in enumerate(names):\n",
    "        writer = PdfWriter()\n",
    "        writer.add_page(reader.pages[i])\n",
    "        # Construction du chemin complet du fichier de sortie\n",
    "        output_filename = os.path.join(output_folder, f\"{name}.pdf\")\n",
    "        with open(output_filename, \"wb\") as output_pdf:\n",
    "            writer.write(output_pdf)\n",
    "    \n",
    "    return f\"Extraction terminée, {len(names)} fichiers créés dans {output_folder}.\"\n",
    "\n",
    "# Exemple d'utilisation (à adapter)\n",
    "# output_dir = r\"C:\\Users\\VotreNom\\Documents\\PagesPDF\"  # Exemple pour Windows\n",
    "# result = extract_and_rename_pdf_pages('mon_fichier.pdf', 'noms.csv', 'nom', output_dir)\n",
    "# print(result)"
   ]
  },
  {
   "cell_type": "markdown",
   "id": "2997149f",
   "metadata": {},
   "source": [
    "# Nord"
   ]
  },
  {
   "cell_type": "code",
   "execution_count": 8,
   "id": "87d46f82",
   "metadata": {},
   "outputs": [],
   "source": [
    "pdf_path = r\"C:\\Users\\KAM FOTSO Gislain\\Desktop\\PROJET WEB MAP\\RGP_Fiches_signaletiques_reseau_Base_region_NORD.pdf\"\n",
    "csv_path = r\"C:\\Users\\KAM FOTSO Gislain\\Desktop\\PROJET WEB MAP\\RGNC_WEB_MAP\\données pour l'extration des pages\\Nord.csv\"\n",
    "column_name = \"Matricule\"\n",
    "output_folder = r\"C:\\Users\\KAM FOTSO Gislain\\Desktop\\PROJET WEB MAP\\fiches par points\\point de base region du nord\""
   ]
  },
  {
   "cell_type": "code",
   "execution_count": 15,
   "id": "d4f1bc92",
   "metadata": {},
   "outputs": [
    {
     "data": {
      "text/plain": [
       "'Extraction terminée, 47 fichiers créés dans C:\\\\Users\\\\KAM FOTSO Gislain\\\\Desktop\\\\PROJET WEB MAP\\\\fiches par points\\\\point de base region du nord.'"
      ]
     },
     "execution_count": 15,
     "metadata": {},
     "output_type": "execute_result"
    }
   ],
   "source": [
    "extract_and_rename_pdf_pages(pdf_path, csv_path, column_name, output_folder)"
   ]
  },
  {
   "cell_type": "markdown",
   "id": "7fea97b1",
   "metadata": {},
   "source": [
    "# Nord-Ouest"
   ]
  },
  {
   "cell_type": "code",
   "execution_count": 10,
   "id": "81d3218b",
   "metadata": {},
   "outputs": [],
   "source": [
    "pdf_path = r\"C:\\Users\\KAM FOTSO Gislain\\Desktop\\PROJET WEB MAP\\RGP_Fiches_signaletiques_reseau_Base_region_NORD-OUEST.pdf\"\n",
    "csv_path = r\"C:\\Users\\KAM FOTSO Gislain\\Desktop\\PROJET WEB MAP\\RGNC_WEB_MAP\\données pour l'extration des pages\\Nord Ouest.csv\"\n",
    "column_name = \"Matricule du point\"\n",
    "output_folder = r\"C:\\Users\\KAM FOTSO Gislain\\Desktop\\PROJET WEB MAP\\fiches par points\\point de base region du nord-ouest\""
   ]
  },
  {
   "cell_type": "code",
   "execution_count": 27,
   "id": "1de86857",
   "metadata": {},
   "outputs": [
    {
     "data": {
      "text/plain": [
       "'Extraction terminée, 36 fichiers créés dans C:\\\\Users\\\\KAM FOTSO Gislain\\\\Desktop\\\\PROJET WEB MAP\\\\fiches par points\\\\point de base region du nord-ouest.'"
      ]
     },
     "execution_count": 27,
     "metadata": {},
     "output_type": "execute_result"
    }
   ],
   "source": [
    "extract_and_rename_pdf_pages(pdf_path, csv_path, column_name, output_folder)"
   ]
  },
  {
   "cell_type": "markdown",
   "id": "5a93dd03",
   "metadata": {},
   "source": [
    "# Ouest"
   ]
  },
  {
   "cell_type": "code",
   "execution_count": 16,
   "id": "001417d0",
   "metadata": {},
   "outputs": [],
   "source": [
    "pdf_path = r\"C:\\Users\\KAM FOTSO Gislain\\Desktop\\PROJET WEB MAP\\RGP_Fiches_signaletiques_reseau_Base_region_OUEST.pdf\"\n",
    "csv_path = r\"C:\\Users\\KAM FOTSO Gislain\\Desktop\\PROJET WEB MAP\\RGNC_WEB_MAP\\données pour l'extration des pages\\OUEST.csv\"\n",
    "column_name = \"Matricule du point\"\n",
    "output_folder = r\"C:\\Users\\KAM FOTSO Gislain\\Desktop\\PROJET WEB MAP\\fiches par points\\point de base region de ouest\""
   ]
  },
  {
   "cell_type": "code",
   "execution_count": 17,
   "id": "2c19c456",
   "metadata": {},
   "outputs": [
    {
     "data": {
      "text/plain": [
       "'Extraction terminée, 45 fichiers créés dans C:\\\\Users\\\\KAM FOTSO Gislain\\\\Desktop\\\\PROJET WEB MAP\\\\fiches par points\\\\point de base region de ouest.'"
      ]
     },
     "execution_count": 17,
     "metadata": {},
     "output_type": "execute_result"
    }
   ],
   "source": [
    "extract_and_rename_pdf_pages(pdf_path, csv_path, column_name, output_folder)"
   ]
  },
  {
   "cell_type": "markdown",
   "id": "adeffe89",
   "metadata": {},
   "source": [
    "# littoral"
   ]
  },
  {
   "cell_type": "code",
   "execution_count": null,
   "id": "af12c9ed",
   "metadata": {},
   "outputs": [],
   "source": [
    "pdf_path = r\"C:\\Users\\KAM FOTSO Gislain\\Desktop\\PROJET WEB MAP\\RGP_Fiches_signaletiques_reseau_Base_region_LITTORAL.pdf\"\n",
    "csv_path = r\"C:\\Users\\KAM FOTSO Gislain\\Desktop\\PROJET WEB MAP\\RGNC_WEB_MAP\\données pour l'extration des pages\\Littoral.csv\"\n",
    "column_name = \"Matricule du point\"\n",
    "output_folder = r\"C:\\Users\\KAM FOTSO Gislain\\Desktop\\PROJET WEB MAP\\fiches par points\\point de Base region de littoral\""
   ]
  },
  {
   "cell_type": "code",
   "execution_count": 5,
   "id": "6be3fc56",
   "metadata": {},
   "outputs": [
    {
     "data": {
      "text/plain": [
       "'Extraction terminée, 43 fichiers créés dans C:\\\\Users\\\\KAM FOTSO Gislain\\\\Desktop\\\\PROJET WEB MAP\\\\fiches par points\\\\point de Base region de littoral.'"
      ]
     },
     "execution_count": 5,
     "metadata": {},
     "output_type": "execute_result"
    }
   ],
   "source": [
    "extract_and_rename_pdf_pages(pdf_path, csv_path, column_name, output_folder)"
   ]
  },
  {
   "cell_type": "markdown",
   "id": "18711d0f",
   "metadata": {},
   "source": [
    "# Centre"
   ]
  },
  {
   "cell_type": "code",
   "execution_count": 11,
   "id": "13509549",
   "metadata": {},
   "outputs": [],
   "source": [
    "pdf_path = r\"c:\\Users\\KAM FOTSO Gislain\\Desktop\\PROJET WEB MAP\\RGP_Fiches_signaletiques_reseau_Base_region_CENTRE.pdf\"\n",
    "csv_path = r\"C:\\Users\\KAM FOTSO Gislain\\Desktop\\PROJET WEB MAP\\RGNC_WEB_MAP\\données pour l'extration des pages\\Centre.csv\"\n",
    "column_name = \"Matricule du point\"\n",
    "output_folder = r\"C:\\Users\\KAM FOTSO Gislain\\Desktop\\PROJET WEB MAP\\fiches par points\\point de Base region de centre\""
   ]
  },
  {
   "cell_type": "code",
   "execution_count": 12,
   "id": "9a6acbaf",
   "metadata": {},
   "outputs": [
    {
     "data": {
      "text/plain": [
       "'Extraction terminée, 91 fichiers créés dans C:\\\\Users\\\\KAM FOTSO Gislain\\\\Desktop\\\\PROJET WEB MAP\\\\fiches par points\\\\point de Base region de centre.'"
      ]
     },
     "execution_count": 12,
     "metadata": {},
     "output_type": "execute_result"
    }
   ],
   "source": [
    "extract_and_rename_pdf_pages(pdf_path, csv_path, column_name, output_folder)"
   ]
  },
  {
   "cell_type": "markdown",
   "id": "0c2e6708",
   "metadata": {},
   "source": [
    "# Est"
   ]
  },
  {
   "cell_type": "code",
   "execution_count": 13,
   "id": "b5fed5ad",
   "metadata": {},
   "outputs": [],
   "source": [
    "pdf_path = r\"C:\\Users\\KAM FOTSO Gislain\\Desktop\\PROJET WEB MAP\\RGP_Fiches_signaletiques_reseau_Base_region_EST.pdf\"\n",
    "csv_path = r\"C:\\Users\\KAM FOTSO Gislain\\Desktop\\PROJET WEB MAP\\RGNC_WEB_MAP\\données pour l'extration des pages\\Est.csv\"\n",
    "column_name = \"Matricule du point\"\n",
    "output_folder = r\"C:\\Users\\KAM FOTSO Gislain\\Desktop\\PROJET WEB MAP\\fiches par points\\point de Base region de Est\""
   ]
  },
  {
   "cell_type": "code",
   "execution_count": 14,
   "id": "913e6c4b",
   "metadata": {},
   "outputs": [
    {
     "data": {
      "text/plain": [
       "'Extraction terminée, 63 fichiers créés dans C:\\\\Users\\\\KAM FOTSO Gislain\\\\Desktop\\\\PROJET WEB MAP\\\\fiches par points\\\\point de Base region de Est.'"
      ]
     },
     "execution_count": 14,
     "metadata": {},
     "output_type": "execute_result"
    }
   ],
   "source": [
    "extract_and_rename_pdf_pages(pdf_path, csv_path, column_name, output_folder)"
   ]
  },
  {
   "cell_type": "markdown",
   "id": "c2c5fea6",
   "metadata": {},
   "source": [
    "# Extrême Nord"
   ]
  },
  {
   "cell_type": "code",
   "execution_count": 17,
   "id": "89415f46",
   "metadata": {},
   "outputs": [],
   "source": [
    "pdf_path = r\"C:\\Users\\KAM FOTSO Gislain\\Desktop\\PROJET WEB MAP\\RGP_Fiches_signaletiques_reseau_Base_region_EXTREME-NORD.pdf\"\n",
    "csv_path = r\"C:\\Users\\KAM FOTSO Gislain\\Desktop\\PROJET WEB MAP\\RGNC_WEB_MAP\\données pour l'extration des pages\\extreme nord.csv\"\n",
    "column_name = \"Matricule du Point\"\n",
    "output_folder = r\"C:\\Users\\KAM FOTSO Gislain\\Desktop\\PROJET WEB MAP\\fiches par points\\point de Base region de l'extrême nord\""
   ]
  },
  {
   "cell_type": "code",
   "execution_count": 18,
   "id": "63f37c6f",
   "metadata": {},
   "outputs": [
    {
     "data": {
      "text/plain": [
       "\"Extraction terminée, 63 fichiers créés dans C:\\\\Users\\\\KAM FOTSO Gislain\\\\Desktop\\\\PROJET WEB MAP\\\\fiches par points\\\\point de Base region de l'extrême nord.\""
      ]
     },
     "execution_count": 18,
     "metadata": {},
     "output_type": "execute_result"
    }
   ],
   "source": [
    "extract_and_rename_pdf_pages(pdf_path, csv_path, column_name, output_folder)"
   ]
  },
  {
   "cell_type": "markdown",
   "id": "fda9e0f4",
   "metadata": {},
   "source": [
    "# Adamaoua"
   ]
  },
  {
   "cell_type": "code",
   "execution_count": 19,
   "id": "617411c3",
   "metadata": {},
   "outputs": [],
   "source": [
    "pdf_path = r\"C:\\Users\\KAM FOTSO Gislain\\Desktop\\PROJET WEB MAP\\RGP_Fiches_signaletiques_reseau_Base_region_ADAMAOUA.pdf\"\n",
    "csv_path = r\"C:\\Users\\KAM FOTSO Gislain\\Desktop\\PROJET WEB MAP\\RGNC_WEB_MAP\\données pour l'extration des pages\\Adamaoua.csv\"\n",
    "column_name = \"Matricule du point\"\n",
    "output_folder = r\"C:\\Users\\KAM FOTSO Gislain\\Desktop\\PROJET WEB MAP\\fiches par points\\point de Base region de l'adamaoua\""
   ]
  },
  {
   "cell_type": "code",
   "execution_count": 20,
   "id": "48a77757",
   "metadata": {},
   "outputs": [
    {
     "data": {
      "text/plain": [
       "\"Extraction terminée, 36 fichiers créés dans C:\\\\Users\\\\KAM FOTSO Gislain\\\\Desktop\\\\PROJET WEB MAP\\\\fiches par points\\\\point de Base region de l'adamaoua.\""
      ]
     },
     "execution_count": 20,
     "metadata": {},
     "output_type": "execute_result"
    }
   ],
   "source": [
    "extract_and_rename_pdf_pages(pdf_path, csv_path, column_name, output_folder)"
   ]
  }
 ],
 "metadata": {
  "kernelspec": {
   "display_name": "base",
   "language": "python",
   "name": "python3"
  },
  "language_info": {
   "codemirror_mode": {
    "name": "ipython",
    "version": 3
   },
   "file_extension": ".py",
   "mimetype": "text/x-python",
   "name": "python",
   "nbconvert_exporter": "python",
   "pygments_lexer": "ipython3",
   "version": "3.12.7"
  }
 },
 "nbformat": 4,
 "nbformat_minor": 5
}
